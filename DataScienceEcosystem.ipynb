{
  "metadata": {
    "kernelspec": {
      "name": "python",
      "display_name": "Python (Pyodide)",
      "language": "python"
    },
    "language_info": {
      "codemirror_mode": {
        "name": "python",
        "version": 3
      },
      "file_extension": ".py",
      "mimetype": "text/x-python",
      "name": "python",
      "nbconvert_exporter": "python",
      "pygments_lexer": "ipython3",
      "version": "3.8"
    }
  },
  "nbformat_minor": 4,
  "nbformat": 4,
  "cells": [
    {
      "cell_type": "markdown",
      "source": "<h1> Data Science Tools and Ecosystem</h1>\n",
      "metadata": {}
    },
    {
      "cell_type": "markdown",
      "source": "In this notebook, Data Science Tools anf Ecosystem are summarized.",
      "metadata": {}
    },
    {
      "cell_type": "markdown",
      "source": "Objectives: \n- Popular Data Science Languages \n- Popular Data Science Libraries for Python\n- Open Source Data Science Environments\n- Arithmetic \n                                ",
      "metadata": {}
    },
    {
      "cell_type": "markdown",
      "source": "Some of the popular languages that Data Scientists use are: \n1. R\n2. Python\n3. SQL (Structured Query Langauge)",
      "metadata": {}
    },
    {
      "cell_type": "markdown",
      "source": "Some of the commonly used libraries used by Data Scientists include: \n- Pandas\n- Matplotlib\n- Tensorflow",
      "metadata": {}
    },
    {
      "cell_type": "markdown",
      "source": "|Data Science Tools| \n|------------------|\n| RStudio |\n| Jupyter Notebook |\n| Virtual Studio Code | \n",
      "metadata": {}
    },
    {
      "cell_type": "markdown",
      "source": "Below are a few examples of evaluating arithmetic expressions in Python: \n- Addition: 6 + 5 = 11\n- Subtraction: 14 - 5 = 9\n- Multiplication: 3*4 = 12\n- Division: 15 / 3 = 5",
      "metadata": {}
    },
    {
      "cell_type": "code",
      "source": "# This is a simple expression for addition then multplication of values\nanswer = (2 + 5) * 7 \nprint(answer)",
      "metadata": {
        "trusted": true
      },
      "outputs": [
        {
          "name": "stdout",
          "text": "49\n",
          "output_type": "stream"
        }
      ],
      "execution_count": 6
    },
    {
      "cell_type": "code",
      "source": "# Converts 200 Minutes into Hours \nhours = 200 / 60 \nprint(hours)",
      "metadata": {
        "trusted": true
      },
      "outputs": [
        {
          "name": "stdout",
          "text": "3.3333333333333335\n",
          "output_type": "stream"
        }
      ],
      "execution_count": 7
    },
    {
      "cell_type": "markdown",
      "source": "<h2> Author</h2>\nAarav Satashia",
      "metadata": {}
    },
    {
      "cell_type": "code",
      "source": "",
      "metadata": {
        "trusted": true
      },
      "outputs": [],
      "execution_count": null
    }
  ]
}